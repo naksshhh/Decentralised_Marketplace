{
  "nbformat": 4,
  "nbformat_minor": 0,
  "metadata": {
    "colab": {
      "provenance": []
    },
    "kernelspec": {
      "name": "python3",
      "display_name": "Python 3"
    },
    "language_info": {
      "name": "python"
    }
  },
  "cells": [
    {
      "cell_type": "code",
      "execution_count": 2,
      "metadata": {
        "colab": {
          "base_uri": "https://localhost:8080/"
        },
        "id": "RXijQJ0dY466",
        "outputId": "5bace44b-450e-4d1e-fe13-f85f670942ab"
      },
      "outputs": [
        {
          "output_type": "stream",
          "name": "stdout",
          "text": [
            "Marked 4 out of 7 tuples.\n",
            "Watermarked data saved to watermarked_output.csv\n"
          ]
        }
      ],
      "source": [
        "import hashlib\n",
        "import csv\n",
        "\n",
        "PRIVATE_KEY = \"WmKz8n5q@3!TgLzX7&bV#Pf9\"\n",
        "\n",
        "# Parameters\n",
        "GAMMA = 0.4  # Fraction of tuples to be marked\n",
        "L = 2        # Number of least significant bits available for marking\n",
        "\n",
        "def F(value):\n",
        "    inner_hash = hashlib.sha256((PRIVATE_KEY + str(value)).encode()).hexdigest()\n",
        "    outer_hash = hashlib.sha256((PRIVATE_KEY + inner_hash).encode()).hexdigest()\n",
        "    return int(outer_hash, 16)  # Convert hash to integer\n",
        "\n",
        "def mark(primary_key, attribute_value, bit_index):\n",
        "    first_hash = F(primary_key)  # Compute the hash for deciding bit value\n",
        "    bit_value = 0 if first_hash % 2 == 0 else 1  # Decide bit value (even -> 0, odd -> 1)\n",
        "    # Modify the attribute's least significant bit\n",
        "    mask = 1 << bit_index\n",
        "    attribute_value = (attribute_value & ~mask) | (bit_value << bit_index)\n",
        "    return attribute_value\n",
        "\n",
        "def insert_watermark(input_file, output_file, has_header=True, primary_key_index=0):\n",
        "    database = []\n",
        "\n",
        "    with open(input_file, newline=\"\") as csvfile:\n",
        "        reader = csv.reader(csvfile)\n",
        "        if has_header:\n",
        "            header = next(reader)\n",
        "\n",
        "        for row in reader:\n",
        "            try:\n",
        "                # Convert all except primary key to integers\n",
        "                primary_key = row[primary_key_index]\n",
        "                attributes = list(map(int, row[:primary_key_index] + row[primary_key_index + 1:]))\n",
        "                database.append((primary_key, attributes))\n",
        "            except ValueError:\n",
        "                continue  # Skip invalid rows\n",
        "\n",
        "    marked_count = 0\n",
        "    total_tuples = len(database)\n",
        "\n",
        "    for primary_key, attributes in database:\n",
        "        if F(primary_key) % int(1 / GAMMA) == 0:  # Decide if tuple should be marked\n",
        "            attr_index = F(primary_key) % len(attributes)  # Choose an attribute to mark\n",
        "            bit_index = F(primary_key) % L  # Choose a bit position to mark\n",
        "            attributes[attr_index] = mark(primary_key, attributes[attr_index], bit_index)\n",
        "            marked_count += 1\n",
        "\n",
        "    print(f\"Marked {marked_count} out of {total_tuples} tuples.\")\n",
        "\n",
        "    # Write watermarked database to CSV\n",
        "    with open(output_file, \"w\", newline=\"\") as csvfile:\n",
        "        writer = csv.writer(csvfile)\n",
        "        if has_header:\n",
        "            writer.writerow(header)  # Write header back\n",
        "        for primary_key, attributes in database:\n",
        "            writer.writerow([primary_key] + attributes)\n",
        "\n",
        "\n",
        "input_csv = \"input.csv\"\n",
        "output_csv = \"watermarked_output.csv\"\n",
        "\n",
        "insert_watermark(input_csv, output_csv, has_header=True, primary_key_index=0)\n",
        "print(f\"Watermarked data saved to {output_csv}\")\n"
      ]
    },
    {
      "cell_type": "code",
      "source": [
        "\n",
        "# Function to extract the bit at bit_index from a number\n",
        "def get_bit(num, bit_index):\n",
        "    return (num >> bit_index) & 1\n",
        "\n",
        "def detect_watermark(input_file, has_header=True, primary_key_index=0, threshold=0.5):\n",
        "    database = []\n",
        "\n",
        "    with open(input_file, newline=\"\") as csvfile:\n",
        "        reader = csv.reader(csvfile)\n",
        "        if has_header:\n",
        "            header = next(reader)\n",
        "        for row in reader:\n",
        "            try:\n",
        "                primary_key = row[primary_key_index]\n",
        "                # Convert all attributes (except primary key) to integers\n",
        "                attributes = list(map(int, row[:primary_key_index] + row[primary_key_index+1:]))\n",
        "                database.append((primary_key, attributes))\n",
        "            except ValueError:\n",
        "                continue  # Skip rows with conversion errors\n",
        "\n",
        "    total_marked = 0\n",
        "    matching_bits = 0\n",
        "\n",
        "    for primary_key, attributes in database:\n",
        "        # Check if this tuple was marked (same condition as insertion)\n",
        "        if F(primary_key) % int(1 / GAMMA) == 0:\n",
        "            total_marked += 1\n",
        "            # Determine the attribute and bit index used during insertion\n",
        "            attr_index = F(primary_key) % len(attributes)\n",
        "            bit_index = F(primary_key) % L\n",
        "            expected_bit = 0 if F(primary_key) % 2 == 0 else 1\n",
        "            actual_bit = get_bit(attributes[attr_index], bit_index)\n",
        "            if actual_bit == expected_bit:\n",
        "                matching_bits += 1\n",
        "\n",
        "    if total_marked == 0:\n",
        "        print(\"No marked tuples found.\")\n",
        "        return False\n",
        "\n",
        "    match_ratio = matching_bits / total_marked\n",
        "    print(f\"Marked tuples: {total_marked}, Matching bits: {matching_bits}, Ratio: {match_ratio:.2f}\")\n",
        "\n",
        "    if match_ratio >= threshold:\n",
        "        print(\"Watermark detected!\")\n",
        "        return True\n",
        "    else:\n",
        "        print(\"Watermark not detected.\")\n",
        "        return False\n",
        "\n",
        "detect_watermark(output_csv, has_header=True, primary_key_index=0, threshold=0.5)\n"
      ],
      "metadata": {
        "id": "0WRRi7aYdLId",
        "colab": {
          "base_uri": "https://localhost:8080/"
        },
        "outputId": "8b444345-9cc1-4b3b-8aba-fbb06d2c2a8b"
      },
      "execution_count": 4,
      "outputs": [
        {
          "output_type": "stream",
          "name": "stdout",
          "text": [
            "Marked tuples: 4, Matching bits: 2, Ratio: 0.50\n",
            "Watermark detected!\n"
          ]
        },
        {
          "output_type": "execute_result",
          "data": {
            "text/plain": [
              "True"
            ]
          },
          "metadata": {},
          "execution_count": 4
        }
      ]
    },
    {
      "cell_type": "code",
      "source": [],
      "metadata": {
        "id": "0oqL9FgjWHxx"
      },
      "execution_count": null,
      "outputs": []
    }
  ]
}